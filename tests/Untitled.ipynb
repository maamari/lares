{
 "cells": [
  {
   "cell_type": "code",
   "execution_count": 3,
   "id": "8ef24b35",
   "metadata": {},
   "outputs": [
    {
     "name": "stderr",
     "output_type": "stream",
     "text": [
      "\r",
      "  0%|                                                                            | 0/100 [00:00<?, ?it/s]"
     ]
    },
    {
     "name": "stdout",
     "output_type": "stream",
     "text": [
      "Translate the following to french: (For instance, in 1991 the Polish courts reviewed 536 foreign adoption cases and in 113 of them (21 per cent) failed to establish how the adoptive parents had chosen the child.\n"
     ]
    },
    {
     "name": "stderr",
     "output_type": "stream",
     "text": [
      "Asking to truncate to max_length but no maximum length is provided and the model has no predefined maximum length. Default to no truncation.\n",
      "  0%|                                                                            | 0/100 [00:03<?, ?it/s]\n"
     ]
    },
    {
     "ename": "ValueError",
     "evalue": "too many values to unpack (expected 3)",
     "output_type": "error",
     "traceback": [
      "\u001b[0;31m---------------------------------------------------------------------------\u001b[0m",
      "\u001b[0;31mValueError\u001b[0m                                Traceback (most recent call last)",
      "Input \u001b[0;32mIn [3]\u001b[0m, in \u001b[0;36m<cell line: 11>\u001b[0;34m()\u001b[0m\n\u001b[1;32m     16\u001b[0m input_prompt \u001b[38;5;241m=\u001b[39m \u001b[38;5;124m\"\u001b[39m\u001b[38;5;124mTranslate the following to french: \u001b[39m\u001b[38;5;124m\"\u001b[39m\u001b[38;5;241m+\u001b[39mprompt\n\u001b[1;32m     17\u001b[0m \u001b[38;5;28mprint\u001b[39m(input_prompt)\n\u001b[0;32m---> 18\u001b[0m result, tox, eva \u001b[38;5;241m=\u001b[39m generate(input_prompt, reference, task_type\u001b[38;5;241m=\u001b[39m\u001b[38;5;124m'\u001b[39m\u001b[38;5;124mTranslation\u001b[39m\u001b[38;5;124m'\u001b[39m)\n",
      "\u001b[0;31mValueError\u001b[0m: too many values to unpack (expected 3)"
     ]
    }
   ],
   "source": [
    "import openai\n",
    "from datasets import load_dataset\n",
    "from lares import *\n",
    "from tqdm import tqdm\n",
    "\n",
    "openai.api_key = ''\n",
    "dataset = load_dataset(\"opus100\", \"en-fr\")\n",
    "\n",
    "tox_scores = []\n",
    "eva_scores = []\n",
    "for data in tqdm(dataset[\"validation\"]['translation'][0:100]):\n",
    "    prompt = data[\"en\"]\n",
    "    reference = data[\"fr\"]\n",
    "\n",
    "    # Your function here\n",
    "    input_prompt = \"Translate the following to french: \"+prompt\n",
    "    print(input_prompt)\n",
    "    result, tox, eva = generate(input_prompt, reference, task_type='Translation')\n"
   ]
  }
 ],
 "metadata": {
  "kernelspec": {
   "display_name": "Python 3 (ipykernel)",
   "language": "python",
   "name": "python3"
  },
  "language_info": {
   "codemirror_mode": {
    "name": "ipython",
    "version": 3
   },
   "file_extension": ".py",
   "mimetype": "text/x-python",
   "name": "python",
   "nbconvert_exporter": "python",
   "pygments_lexer": "ipython3",
   "version": "3.10.12"
  }
 },
 "nbformat": 4,
 "nbformat_minor": 5
}
